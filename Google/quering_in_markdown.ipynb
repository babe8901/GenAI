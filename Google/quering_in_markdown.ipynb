{
 "cells": [
  {
   "cell_type": "code",
   "execution_count": 1,
   "metadata": {},
   "outputs": [
    {
     "name": "stderr",
     "output_type": "stream",
     "text": [
      "c:\\Users\\shubham.yadav\\AppData\\Local\\Programs\\Python\\Python311\\Lib\\site-packages\\tqdm\\auto.py:21: TqdmWarning: IProgress not found. Please update jupyter and ipywidgets. See https://ipywidgets.readthedocs.io/en/stable/user_install.html\n",
      "  from .autonotebook import tqdm as notebook_tqdm\n"
     ]
    }
   ],
   "source": [
    "import pathlib\n",
    "import textwrap\n",
    "import os\n",
    "\n",
    "import google.generativeai as genai\n",
    "\n",
    "from IPython.display import display\n",
    "from IPython.display import Markdown"
   ]
  },
  {
   "cell_type": "code",
   "execution_count": 2,
   "metadata": {},
   "outputs": [],
   "source": [
    "# Suppress logging warnings\n",
    "os.environ[\"GRPC_VERBOSITY\"] = \"ERROR\"\n",
    "os.environ[\"GLOG_minloglevel\"] = \"2\""
   ]
  },
  {
   "cell_type": "code",
   "execution_count": 3,
   "metadata": {},
   "outputs": [],
   "source": [
    "def to_markdown(text):\n",
    "  text = text.replace('•', '  *')\n",
    "  return Markdown(textwrap.indent(text, '> ', predicate=lambda _: True))"
   ]
  },
  {
   "cell_type": "code",
   "execution_count": 4,
   "metadata": {},
   "outputs": [
    {
     "name": "stdout",
     "output_type": "stream",
     "text": [
      "models/gemini-1.0-pro-latest\n",
      "models/gemini-1.0-pro\n",
      "models/gemini-pro\n",
      "models/gemini-1.0-pro-001\n",
      "models/gemini-1.0-pro-vision-latest\n",
      "models/gemini-pro-vision\n",
      "models/gemini-1.5-pro-latest\n",
      "models/gemini-1.5-pro-001\n",
      "models/gemini-1.5-pro\n",
      "models/gemini-1.5-flash-latest\n",
      "models/gemini-1.5-flash-001\n",
      "models/gemini-1.5-flash\n"
     ]
    }
   ],
   "source": [
    "for model in genai.list_models():\n",
    "  if 'generateContent' in model.supported_generation_methods:\n",
    "    print(model.name)"
   ]
  },
  {
   "cell_type": "code",
   "execution_count": 29,
   "metadata": {},
   "outputs": [],
   "source": [
    "file = open(\"output.txt\", \"w+\")\n",
    "genai.configure(api_key=os.environ[\"GOOGLE_API_KEY\"])\n",
    "model = genai.GenerativeModel('gemini-1.5-flash')\n",
    "response = model.generate_content(\"What is the meaning of life?\")"
   ]
  },
  {
   "cell_type": "code",
   "execution_count": null,
   "metadata": {},
   "outputs": [],
   "source": [
    "to_markdown(response.text)"
   ]
  },
  {
   "cell_type": "code",
   "execution_count": 27,
   "metadata": {},
   "outputs": [],
   "source": [
    "file.seek(0)\n",
    "file.write(response.text)\n",
    "file.flush()"
   ]
  },
  {
   "cell_type": "code",
   "execution_count": 28,
   "metadata": {},
   "outputs": [
    {
     "data": {
      "text/plain": [
       "[index: 0\n",
       "content {\n",
       "  parts {\n",
       "    text: \"The meaning of life is a question that has been pondered by philosophers and theologians for centuries, and there is no single, universally accepted answer. \\n\\nHere\\'s a breakdown of some common perspectives:\\n\\n**Philosophical Perspectives:**\\n\\n* **Nihilism:**  The belief that life is inherently meaningless and without purpose.\\n* **Existentialism:** Emphasizes individual freedom and responsibility, suggesting that meaning is created through our choices and actions.\\n* **Absurdism:**  Recognizes the inherent contradiction between our desire for meaning and the meaningless universe, yet advocates for embracing this absurdity and finding meaning in the act of living itself.\\n* **Hedonism:**  Focuses on maximizing pleasure and minimizing pain as the ultimate goal.\\n* **Utilitarianism:**  Advocates for actions that promote the greatest happiness for the greatest number of people.\\n\\n**Religious and Spiritual Perspectives:**\\n\\n* **Theism:** Many religions offer a pre-determined meaning to life based on a higher power and its will.\\n* **Buddhism:**  Emphasizes the pursuit of enlightenment through meditation, compassion, and understanding the nature of reality.\\n* **Hinduism:**  Stresses the cyclical nature of life and the pursuit of spiritual liberation (moksha).\\n* **Other religions and spiritual practices:** Each offers unique perspectives on the meaning of life.\\n\\n**Personal Perspectives:**\\n\\n* **Finding meaning through connection:**  Building relationships with loved ones, contributing to society, and leaving a positive legacy.\\n* **Meaning through purpose:**  Pursuing passions, achieving goals, and making a difference in the world.\\n* **Meaning through self-discovery:**  Exploring one\\'s values, beliefs, and potential, and living authentically.\\n\\n**Ultimately, the meaning of life is a personal question with no right or wrong answer.** \\n\\nIt\\'s a journey of exploration and discovery, and the meaning you find may evolve throughout your life. \\n\\nRather than seeking a definitive answer, consider these questions:\\n\\n* What brings you joy and fulfillment?\\n* What are your values and what do you believe is important?\\n* What impact do you want to have on the world? \\n* What kind of legacy do you want to leave behind?\\n\\nBy reflecting on these questions, you can begin to find your own unique meaning in life. \\n\"\n",
       "  }\n",
       "  role: \"model\"\n",
       "}\n",
       "finish_reason: STOP\n",
       "safety_ratings {\n",
       "  category: HARM_CATEGORY_SEXUALLY_EXPLICIT\n",
       "  probability: NEGLIGIBLE\n",
       "}\n",
       "safety_ratings {\n",
       "  category: HARM_CATEGORY_HATE_SPEECH\n",
       "  probability: NEGLIGIBLE\n",
       "}\n",
       "safety_ratings {\n",
       "  category: HARM_CATEGORY_HARASSMENT\n",
       "  probability: NEGLIGIBLE\n",
       "}\n",
       "safety_ratings {\n",
       "  category: HARM_CATEGORY_DANGEROUS_CONTENT\n",
       "  probability: NEGLIGIBLE\n",
       "}\n",
       "]"
      ]
     },
     "execution_count": 28,
     "metadata": {},
     "output_type": "execute_result"
    }
   ],
   "source": [
    "response.candidates"
   ]
  },
  {
   "cell_type": "code",
   "execution_count": 34,
   "metadata": {},
   "outputs": [
    {
     "name": "stdout",
     "output_type": "stream",
     "text": [
      "The\n",
      "________________________________________________________________________________\n",
      " meaning of life is a question that has been pondered by philosophers, theologians, and\n",
      "________________________________________________________________________________\n",
      " everyday people for centuries. There is no single, universally accepted answer, and the\n",
      "________________________________________________________________________________\n",
      " meaning of life is likely to be different for each individual. \n",
      "\n",
      "Here are some common perspectives on the meaning of life:\n",
      "\n",
      "**Philosophical Perspectives:**\n",
      "\n",
      "\n",
      "________________________________________________________________________________\n",
      "* **Nihilism:**  The belief that life is inherently meaningless and without purpose.\n",
      "* **Existentialism:** Emphasizes individual freedom and responsibility in\n",
      "________________________________________________________________________________\n",
      " creating meaning in a meaningless world.\n",
      "* **Absurdism:**  Recognizes the inherent absurdity of life but encourages individuals to embrace it and live authentically.\n",
      "* **Hedonism:** Focuses on maximizing pleasure and minimizing\n",
      "________________________________________________________________________________\n",
      " pain as the primary goal of life.\n",
      "* **Utilitarianism:**  Advocates for maximizing happiness and well-being for the greatest number of people.\n",
      "\n",
      "**Religious Perspectives:**\n",
      "\n",
      "* **Theism:**  Life has a purpose assigned\n",
      "________________________________________________________________________________\n",
      " by a higher power or deity.\n",
      "* **Buddhism:**  The goal of life is to attain enlightenment and escape the cycle of suffering (samsara).\n",
      "* **Christianity:**  The meaning of life is found in following Jesus Christ and living a life of faith and service.\n",
      "* **Islam:**  Life\n",
      "________________________________________________________________________________\n",
      " is a test from Allah, and its purpose is to worship and submit to His will.\n",
      "\n",
      "**Personal Perspectives:**\n",
      "\n",
      "* **Finding happiness and fulfillment:** Many people find meaning in pursuing their passions, developing meaningful relationships, and contributing to something larger than themselves.\n",
      "* **Leaving a legacy:** Some believe that the meaning\n",
      "________________________________________________________________________________\n",
      " of life is to make a lasting impact on the world.\n",
      "* **Experiencing life to the fullest:** Others focus on appreciating the beauty and wonder of existence, even in the face of challenges.\n",
      "\n",
      "Ultimately, the meaning of life is what you make of it. It is a personal journey of self-discovery and\n",
      "________________________________________________________________________________\n",
      " exploration.  \n",
      "\n",
      "**Instead of asking \"What is the meaning of life?\", perhaps a better question to ask is \"What meaning will I create in my life?\"** \n",
      "\n",
      "________________________________________________________________________________\n"
     ]
    }
   ],
   "source": [
    "response = model.generate_content(\"What is the meaning of life?\", stream=True)\n",
    "for chunk in response:\n",
    "    print(chunk.text)\n",
    "    print(\"_\" * 80)"
   ]
  }
 ],
 "metadata": {
  "kernelspec": {
   "display_name": "Python 3",
   "language": "python",
   "name": "python3"
  },
  "language_info": {
   "codemirror_mode": {
    "name": "ipython",
    "version": 3
   },
   "file_extension": ".py",
   "mimetype": "text/x-python",
   "name": "python",
   "nbconvert_exporter": "python",
   "pygments_lexer": "ipython3",
   "version": "3.11.4"
  }
 },
 "nbformat": 4,
 "nbformat_minor": 2
}
