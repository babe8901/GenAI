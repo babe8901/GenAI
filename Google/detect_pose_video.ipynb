{
 "cells": [
  {
   "cell_type": "code",
   "execution_count": 1,
   "metadata": {},
   "outputs": [],
   "source": [
    "import cv2\n",
    "import mediapipe as mp"
   ]
  },
  {
   "cell_type": "code",
   "execution_count": 2,
   "metadata": {},
   "outputs": [],
   "source": [
    "from mediapipe import solutions\n",
    "from mediapipe.framework.formats import landmark_pb2\n",
    "import numpy as np\n",
    "\n",
    "\n",
    "def draw_landmarks_on_image(rgb_image, detection_result):\n",
    "  pose_landmarks_list = detection_result.pose_landmarks\n",
    "  annotated_image = np.copy(rgb_image)\n",
    "\n",
    "  # Loop through the detected poses to visualize.\n",
    "  for idx in range(len(pose_landmarks_list)):\n",
    "    pose_landmarks = pose_landmarks_list[idx]\n",
    "\n",
    "    # Draw the pose landmarks.\n",
    "    pose_landmarks_proto = landmark_pb2.NormalizedLandmarkList()\n",
    "    pose_landmarks_proto.landmark.extend([\n",
    "      landmark_pb2.NormalizedLandmark(x=landmark.x, y=landmark.y, z=landmark.z) for landmark in pose_landmarks\n",
    "    ])\n",
    "    solutions.drawing_utils.draw_landmarks(\n",
    "      annotated_image,\n",
    "      pose_landmarks_proto,\n",
    "      solutions.pose.POSE_CONNECTIONS,\n",
    "      solutions.drawing_styles.get_default_pose_landmarks_style())\n",
    "  return annotated_image"
   ]
  },
  {
   "cell_type": "code",
   "execution_count": 3,
   "metadata": {},
   "outputs": [],
   "source": [
    "# STEP 1: Import the necessary modules.\n",
    "import mediapipe as mp\n",
    "from mediapipe.tasks import python\n",
    "from mediapipe.tasks.python import vision\n",
    "\n",
    "# STEP 2: Create an PoseLandmarker object.\n",
    "base_options = python.BaseOptions(model_asset_path='models/mediapipe/pose_landmarker_lite.task')\n",
    "options = vision.PoseLandmarkerOptions(\n",
    "    base_options=base_options,\n",
    "    output_segmentation_masks=True)\n",
    "detector = vision.PoseLandmarker.create_from_options(options)\n"
   ]
  },
  {
   "cell_type": "code",
   "execution_count": 4,
   "metadata": {},
   "outputs": [],
   "source": [
    "import cv2\n",
    "import mediapipe as mp\n",
    "\n",
    "def cv2_to_mediapipe(cv2_image):\n",
    "  \"\"\"Converts a CV2 image to a MediaPipe Image.\n",
    "\n",
    "  Args:\n",
    "    cv2_image: The input CV2 image.\n",
    "\n",
    "  Returns:\n",
    "    The converted MediaPipe Image.\n",
    "  \"\"\"\n",
    "\n",
    "  # Convert BGR to RGB\n",
    "  rgb_image = cv2.cvtColor(cv2_image, cv2.COLOR_BGR2RGB)\n",
    "  # Create a MediaPipe Image\n",
    "  mp_image = mp.Image(image_format=mp.ImageFormat.SRGB, data=rgb_image)\n",
    "  return mp_image"
   ]
  },
  {
   "cell_type": "code",
   "execution_count": 5,
   "metadata": {},
   "outputs": [],
   "source": [
    "def resize_video(video_path, scale_factor):\n",
    "  \"\"\"Resizes a video by a given scale factor.\n",
    "\n",
    "  Args:\n",
    "    video_path: Path to the input video file.\n",
    "    scale_factor: Scaling factor (e.g., 0.5 for half size).\n",
    "\n",
    "  Returns:\n",
    "    A generator yielding resized frames.\n",
    "  \"\"\"\n",
    "\n",
    "  cap = cv2.VideoCapture(video_path)\n",
    "\n",
    "  while cap.isOpened():\n",
    "    success, frame = cap.read()\n",
    "    if not success:\n",
    "      break\n",
    "\n",
    "    width = int(frame.shape[1] * scale_factor)\n",
    "    height = int(frame.shape[0] * scale_factor)\n",
    "    resized_frame = cv2.resize(frame, (width, height))\n",
    "\n",
    "    yield resized_frame\n",
    "\n",
    "  cap.release()"
   ]
  },
  {
   "cell_type": "code",
   "execution_count": 6,
   "metadata": {},
   "outputs": [
    {
     "name": "stderr",
     "output_type": "stream",
     "text": [
      "c:\\Python312\\Lib\\site-packages\\google\\protobuf\\symbol_database.py:55: UserWarning: SymbolDatabase.GetPrototype() is deprecated. Please use message_factory.GetMessageClass() instead. SymbolDatabase.GetPrototype() will be removed soon.\n",
      "  warnings.warn('SymbolDatabase.GetPrototype() is deprecated. Please '\n"
     ]
    }
   ],
   "source": [
    "# Example usage:\n",
    "video_path = 'videos/squats.mp4'\n",
    "scale_factor = 0.25\n",
    "\n",
    "for frame in resize_video(video_path, scale_factor):\n",
    "  # Process the resized frame with MediaPipe\n",
    "  \n",
    "  # STEP 3: Load the input image.\n",
    "  image = cv2_to_mediapipe(frame)\n",
    "\n",
    "  # STEP 4: Detect pose landmarks from the input image.\n",
    "  detection_result = detector.detect(image)\n",
    "\n",
    "  # STEP 5: Process the detection result. In this case, visualize it.\n",
    "  annotated_image = draw_landmarks_on_image(image.numpy_view(), detection_result)\n",
    "  # Convert back to BGR for OpenCV visualization\n",
    "  cv2.imshow(\"output\", cv2.cvtColor(annotated_image, cv2.COLOR_RGB2BGR))\n",
    "\n",
    "  if cv2.waitKey(5) & 0xFF == 27:\n",
    "    break\n",
    "\n",
    "cv2.destroyAllWindows()"
   ]
  }
 ],
 "metadata": {
  "kernelspec": {
   "display_name": "Python 3",
   "language": "python",
   "name": "python3"
  },
  "language_info": {
   "codemirror_mode": {
    "name": "ipython",
    "version": 3
   },
   "file_extension": ".py",
   "mimetype": "text/x-python",
   "name": "python",
   "nbconvert_exporter": "python",
   "pygments_lexer": "ipython3",
   "version": "3.12.1"
  }
 },
 "nbformat": 4,
 "nbformat_minor": 2
}
